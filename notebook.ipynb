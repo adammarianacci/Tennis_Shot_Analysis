{
 "cells": [
  {
   "cell_type": "markdown",
   "metadata": {},
   "source": [
    "# Business Understanding"
   ]
  },
  {
   "cell_type": "markdown",
   "metadata": {},
   "source": []
  },
  {
   "cell_type": "markdown",
   "metadata": {},
   "source": [
    "# Data Understanding"
   ]
  },
  {
   "cell_type": "markdown",
   "metadata": {},
   "source": []
  },
  {
   "cell_type": "markdown",
   "metadata": {},
   "source": [
    "# Data Preperation"
   ]
  },
  {
   "cell_type": "markdown",
   "metadata": {},
   "source": []
  },
  {
   "cell_type": "code",
   "execution_count": 1,
   "metadata": {},
   "outputs": [],
   "source": [
    "# Importing the necessary libraries\n",
    "\n",
    "import pandas as pd\n",
    "import numpy as np\n",
    "import matplotlib.pyplot as plt\n",
    "import seaborn as sns\n",
    "import cv2\n",
    "import os\n",
    "from sklearn.model_selection import train_test_split, cross_val_score\n",
    "from sklearn.metrics import accuracy_score, precision_score, confusion_matrix\n",
    "from glob import glob\n",
    "import warnings\n",
    "warnings.filterwarnings('ignore')"
   ]
  },
  {
   "cell_type": "code",
   "execution_count": 5,
   "metadata": {},
   "outputs": [
    {
     "name": "stdout",
     "output_type": "stream",
     "text": [
      "End of video reached or couldn't read frame from '/home/adam/Documents/Flatiron/Capstone/Tennis_Shot_Analysis/data/forehands/vids/adamforehand3.mp4'\n",
      "End of video reached or couldn't read frame from '/home/adam/Documents/Flatiron/Capstone/Tennis_Shot_Analysis/data/forehands/vids/adamforehand4.mp4'\n",
      "End of video reached or couldn't read frame from '/home/adam/Documents/Flatiron/Capstone/Tennis_Shot_Analysis/data/forehands/vids/adamforehand2.mp4'\n",
      "End of video reached or couldn't read frame from '/home/adam/Documents/Flatiron/Capstone/Tennis_Shot_Analysis/data/forehands/vids/adamforehand1.mp4'\n"
     ]
    }
   ],
   "source": [
    "# Directory containing the video files\n",
    "video_directory = '/home/adam/Documents/Flatiron/Capstone/Tennis_Shot_Analysis/data/forehands/vids'\n",
    "\n",
    "# Output directory for extracted frames\n",
    "output_directory = '/home/adam/Documents/Flatiron/Capstone/Tennis_Shot_Analysis/data/forehands/frames'\n",
    "\n",
    "# Function to extract frames from a video file\n",
    "def extract_frames(video_file, output_dir):\n",
    "    # Open the video file\n",
    "    vid = cv2.VideoCapture(video_file)\n",
    "    if not vid.isOpened():\n",
    "        print(f\"Error: Couldn't open video file '{video_file}'\")\n",
    "        return\n",
    "\n",
    "    # Create output directory if it doesn't exist\n",
    "    os.makedirs(output_dir, exist_ok=True)\n",
    "\n",
    "    # Initialize frame counter\n",
    "    current_frame = 0\n",
    "\n",
    "    # Read frames and save them as images\n",
    "    while True:\n",
    "        success, frame = vid.read()\n",
    "\n",
    "        if not success:\n",
    "            print(f\"End of video reached or couldn't read frame from '{video_file}'\")\n",
    "            break\n",
    "\n",
    "        if frame.shape[0] > 0 and frame.shape[1] > 0:\n",
    "            # Save the frame as an image\n",
    "            output_path = os.path.join(output_dir, f'{os.path.splitext(os.path.basename(video_file))[0]}_{current_frame}.jpg')\n",
    "            cv2.imwrite(output_path, frame)\n",
    "            current_frame += 1\n",
    "        else:\n",
    "            print(f\"Error: Invalid frame size in '{video_file}'\")\n",
    "\n",
    "    vid.release()\n",
    "\n",
    "# Iterate over video files in the directory\n",
    "for video_file in os.listdir(video_directory):\n",
    "    if video_file.endswith('.mp4') or video_file.endswith('.avi'):\n",
    "        video_path = os.path.join(video_directory, video_file)\n",
    "        extract_frames(video_path, output_directory)"
   ]
  },
  {
   "cell_type": "code",
   "execution_count": null,
   "metadata": {},
   "outputs": [],
   "source": [
    "vid = cv2.VideoCapture(\n",
    "    '/home/adam/Documents/Flatiron/Capstone/Tennis_Shot_Analysis/data/backhands/mp4 backhands/adambackhand2.mp4')\n",
    "currentframe = 0"
   ]
  },
  {
   "cell_type": "code",
   "execution_count": null,
   "metadata": {},
   "outputs": [],
   "source": [
    "video_file = '/home/adam/Documents/Flatiron/Capstone/Tennis_Shot_Analysis/data/backhands/mp4 backhands/adambackhand2.mp4'\n",
    "output_directory = './extracted/'\n",
    "current_frame = 0\n",
    "\n",
    "vid = cv2.VideoCapture(video_file)\n",
    "\n",
    "if not vid.isOpened():\n",
    "    print(\"Error: Couldn't open video file.\")\n",
    "    exit()\n",
    "\n",
    "while True:\n",
    "    success, frame = vid.read()\n",
    "\n",
    "    if not success:\n",
    "        print(\"End of video reached or couldn't read frame.\")\n",
    "        break\n",
    "\n",
    "    # Check if the frame dimensions are valid\n",
    "    if frame is not None and frame.shape[0] > 0 and frame.shape[1] > 0:\n",
    "        cv2.imshow(\"Output\", frame)\n",
    "        cv2.imwrite(output_directory + 'frame' + str(current_frame) + '.jpg', frame)\n",
    "        current_frame += 1\n",
    "    else:\n",
    "        print(\"Error: Invalid frame.\")\n",
    "\n",
    "    if cv2.waitKey(1) & 0xFF == ord('q'):\n",
    "        break\n",
    "\n",
    "vid.release()\n",
    "cv2.destroyAllWindows()\n"
   ]
  },
  {
   "cell_type": "markdown",
   "metadata": {},
   "source": [
    "# Modeling"
   ]
  },
  {
   "cell_type": "markdown",
   "metadata": {},
   "source": []
  },
  {
   "cell_type": "markdown",
   "metadata": {},
   "source": [
    "# Conclusions"
   ]
  },
  {
   "cell_type": "markdown",
   "metadata": {},
   "source": []
  },
  {
   "cell_type": "markdown",
   "metadata": {},
   "source": [
    "## Limitations"
   ]
  },
  {
   "cell_type": "markdown",
   "metadata": {},
   "source": []
  },
  {
   "cell_type": "markdown",
   "metadata": {},
   "source": [
    "## Recommendations"
   ]
  },
  {
   "cell_type": "markdown",
   "metadata": {},
   "source": []
  },
  {
   "cell_type": "markdown",
   "metadata": {},
   "source": [
    "## Next Steps"
   ]
  },
  {
   "cell_type": "markdown",
   "metadata": {},
   "source": []
  }
 ],
 "metadata": {
  "kernelspec": {
   "display_name": "Python [conda env:learn-env] *",
   "language": "python",
   "name": "conda-env-learn-env-py"
  },
  "language_info": {
   "codemirror_mode": {
    "name": "ipython",
    "version": 3
   },
   "file_extension": ".py",
   "mimetype": "text/x-python",
   "name": "python",
   "nbconvert_exporter": "python",
   "pygments_lexer": "ipython3",
   "version": "3.8.5"
  }
 },
 "nbformat": 4,
 "nbformat_minor": 4
}
